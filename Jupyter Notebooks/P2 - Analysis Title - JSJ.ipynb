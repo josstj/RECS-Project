{
 "cells": [
  {
   "cell_type": "markdown",
   "metadata": {},
   "source": [
    "# Residential Energy Consumption Survey\n",
    "\n",
    "In this notebook we will be performing some basic analyses of the [Residential Energy Consumption Survey](https://www.eia.gov/consumption/residential/data/2015/index.php?view=microdata) dataset.\n",
    "\n",
    "\n",
    "## Input Datasets\n",
    "\n",
    "| Dataset | File Name | Data Cleaning |\n",
    "| --- | --- | --- |\n",
    "| RECS 2015 Dataset | recs2015_public_v4.csv | |\n",
    "| RECS 2015 Data Dictionary| codebook_publicv4.xlsx | |"
   ]
  },
  {
   "cell_type": "code",
   "execution_count": 1,
   "metadata": {},
   "outputs": [],
   "source": [
    "from datetime import date\n",
    "import pandas as pd\n",
    "import numpy as np"
   ]
  },
  {
   "cell_type": "code",
   "execution_count": 2,
   "metadata": {},
   "outputs": [],
   "source": [
    "# Import 2015 RECS dataset\n",
    "\n",
    "df = pd.read_csv(\"../Data/2015/recs2015_public_v4.csv\")"
   ]
  },
  {
   "cell_type": "markdown",
   "metadata": {},
   "source": [
    "## Weights\n",
    "\n",
    "From the [EIA Website](https://www.eia.gov/consumption/residential/data/2015/index.php?view=microdata):\n",
    "\n",
    "- Data were collected from more than 5,600 households selected at random using a complex multistage, area-probability sample design. The sample represents 118.2 million U.S. households.\n",
    "\n",
    "Each row in the dataset is one sample point. The weight of each sampled is the number of households represented by that sample point."
   ]
  },
  {
   "cell_type": "code",
   "execution_count": 3,
   "metadata": {},
   "outputs": [
    {
     "name": "stdout",
     "output_type": "stream",
     "text": [
      "Number of data points : 5,686\n"
     ]
    }
   ],
   "source": [
    "rows = df.shape[0]\n",
    "\n",
    "print(f\"Number of data points : {rows:,.0f}\")"
   ]
  },
  {
   "cell_type": "code",
   "execution_count": 4,
   "metadata": {},
   "outputs": [
    {
     "name": "stdout",
     "output_type": "stream",
     "text": [
      "Sum of all weights : 118,208,250\n"
     ]
    }
   ],
   "source": [
    "total_wgt = df['NWEIGHT'].sum()\n",
    "\n",
    "print(f\"Sum of all weights : {total_wgt:,.0f}\")"
   ]
  },
  {
   "cell_type": "markdown",
   "metadata": {},
   "source": [
    "### What percentage of households use natural gas as their main space heating fuel?\n",
    "\n",
    "The file `codebook_publicv4.xlsx` is a data dictionary. The data dictionary includes a mapping for the variable `FUELHEAT`.\n",
    "\n",
    "| Label | Description |\n",
    "| -- | -- |\n",
    "| 1 | Natural gas from underground pipes |\n",
    "| 2 | Propane (bottled gas) |\n",
    "| 3 | Fuel oil/kerosene |\n",
    "| 5 | Electricity |\n",
    "| 7 | Wood (cordwood or pellets) |\n",
    "| 21 | Some other fuel |\n",
    "| -2 | Not applicable |\n",
    "\n",
    "\n",
    "To estimate the percentage of households using natural gas, we will estimate the total number of households using natural gas, and divide that number by the total number of households in the population (118M).\n",
    "\n",
    "$$ P = \\frac{X_{gas}}{X_{total}} $$"
   ]
  },
  {
   "cell_type": "code",
   "execution_count": 5,
   "metadata": {},
   "outputs": [
    {
     "name": "stdout",
     "output_type": "stream",
     "text": [
      "Percentage natural gas : 49%\n"
     ]
    }
   ],
   "source": [
    "# filter to houses which use natural gas as primary fuel\n",
    "gas_df = df.loc[df['FUELHEAT'] == 1 ]\n",
    "\n",
    "# sum weights\n",
    "gas_wgt = gas_df['NWEIGHT'].sum()\n",
    "\n",
    "# percentage\n",
    "gas_pct = gas_wgt / total_wgt\n",
    "\n",
    "print(f\"Percentage natural gas : {gas_pct:,.0%}\")"
   ]
  },
  {
   "cell_type": "code",
   "execution_count": 11,
   "metadata": {},
   "outputs": [
    {
     "name": "stdout",
     "output_type": "stream",
     "text": [
      "Percentage central cooling: 64%\n"
     ]
    }
   ],
   "source": [
    "#What is the estimated percentage of households which use a central AC unit?\n",
    "\n",
    "# filter to houses which have a central unit\n",
    "cool_df1 = df.loc[df['COOLTYPE'] == 1 ]\n",
    "\n",
    "# sum weights\n",
    "cool_wgt1 = cool_df1['NWEIGHT'].sum()\n",
    "\n",
    "# filter to houses which use a central unit and a window unit\n",
    "cool_df2 = df.loc[df['COOLTYPE'] == 3 ]\n",
    "\n",
    "# sum weights\n",
    "cool_wgt2 = cool_df2['NWEIGHT'].sum()\n",
    "\n",
    "# percentage\n",
    "cool_pct = (cool_wgt1 +  cool_wgt2)/ total_wgt\n",
    "\n",
    "print(f\"Percentage central cooling: {cool_pct:,.0%}\")\n"
   ]
  },
  {
   "cell_type": "code",
   "execution_count": 12,
   "metadata": {},
   "outputs": [
    {
     "name": "stdout",
     "output_type": "stream",
     "text": [
      "Percentage of households with storage water heaters > 50 gal: 27%\n"
     ]
    }
   ],
   "source": [
    "#What is the estimated percentage of households which have a water heater storage tank >50 gallons?\n",
    "\n",
    "#Represented by the variable WHEATSIZ ==3\n",
    "\n",
    "\n",
    "# filter to houses which have a central unit\n",
    "WH_df = df.loc[df['WHEATSIZ'] == 3 ]\n",
    "\n",
    "# sum weights\n",
    "WH_wgt = WH_df['NWEIGHT'].sum()\n",
    "\n",
    "\n",
    "# percentage\n",
    "WH_pct = (WH_wgt)/ total_wgt\n",
    "\n",
    "print(f\"Percentage of households with storage water heaters > 50 gal: {WH_pct:,.0%}\")\n",
    "\n"
   ]
  },
  {
   "cell_type": "code",
   "execution_count": null,
   "metadata": {},
   "outputs": [],
   "source": []
  }
 ],
 "metadata": {
  "kernelspec": {
   "display_name": "Python 3",
   "language": "python",
   "name": "python3"
  },
  "language_info": {
   "codemirror_mode": {
    "name": "ipython",
    "version": 3
   },
   "file_extension": ".py",
   "mimetype": "text/x-python",
   "name": "python",
   "nbconvert_exporter": "python",
   "pygments_lexer": "ipython3",
   "version": "3.7.6"
  }
 },
 "nbformat": 4,
 "nbformat_minor": 4
}
